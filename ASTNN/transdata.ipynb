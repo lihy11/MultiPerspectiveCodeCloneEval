{
 "cells": [
  {
   "cell_type": "code",
   "execution_count": 6,
   "metadata": {
    "collapsed": true
   },
   "outputs": [],
   "source": [
    "import pandas as pd\n",
    "import os\n",
    "import numpy as np"
   ]
  },
  {
   "cell_type": "markdown",
   "metadata": {
    "collapsed": false
   },
   "source": [
    "## 将数据转换为tsv格式"
   ]
  },
  {
   "cell_type": "code",
   "execution_count": 2,
   "metadata": {
    "collapsed": false,
    "pycharm": {
     "name": "#%%\n"
    }
   },
   "outputs": [
    {
     "data": {
      "text/html": [
       "<div>\n",
       "<style scoped>\n",
       "    .dataframe tbody tr th:only-of-type {\n",
       "        vertical-align: middle;\n",
       "    }\n",
       "\n",
       "    .dataframe tbody tr th {\n",
       "        vertical-align: top;\n",
       "    }\n",
       "\n",
       "    .dataframe thead th {\n",
       "        text-align: right;\n",
       "    }\n",
       "</style>\n",
       "<table border=\"1\" class=\"dataframe\">\n",
       "  <thead>\n",
       "    <tr style=\"text-align: right;\">\n",
       "      <th></th>\n",
       "      <th>id</th>\n",
       "      <th>code</th>\n",
       "    </tr>\n",
       "  </thead>\n",
       "  <tbody>\n",
       "    <tr>\n",
       "      <th>0</th>\n",
       "      <td>10488107</td>\n",
       "      <td>public class TEST{\\n    /**\\n\\t   * encriptaDa...</td>\n",
       "    </tr>\n",
       "    <tr>\n",
       "      <th>1</th>\n",
       "      <td>7366066</td>\n",
       "      <td>public class TEST{\\n        public BugReportVi...</td>\n",
       "    </tr>\n",
       "    <tr>\n",
       "      <th>2</th>\n",
       "      <td>963537</td>\n",
       "      <td>public class TEST{\\n    public String[] execut...</td>\n",
       "    </tr>\n",
       "    <tr>\n",
       "      <th>3</th>\n",
       "      <td>1455978</td>\n",
       "      <td>public class TEST{\\n    /**\\n\\t * 以文本格式发送邮件　　 ...</td>\n",
       "    </tr>\n",
       "    <tr>\n",
       "      <th>4</th>\n",
       "      <td>2195116</td>\n",
       "      <td>public class TEST{\\n    /**\\n     *    METHOD ...</td>\n",
       "    </tr>\n",
       "    <tr>\n",
       "      <th>...</th>\n",
       "      <td>...</td>\n",
       "      <td>...</td>\n",
       "    </tr>\n",
       "    <tr>\n",
       "      <th>9318</th>\n",
       "      <td>15185953</td>\n",
       "      <td>public class TEST{\\n    private static Compone...</td>\n",
       "    </tr>\n",
       "    <tr>\n",
       "      <th>9319</th>\n",
       "      <td>5293839</td>\n",
       "      <td>public class TEST{\\n    /**\\n\\t * Open a URL u...</td>\n",
       "    </tr>\n",
       "    <tr>\n",
       "      <th>9320</th>\n",
       "      <td>6164580</td>\n",
       "      <td>public class TEST{\\n    public void calcCRC() ...</td>\n",
       "    </tr>\n",
       "    <tr>\n",
       "      <th>9321</th>\n",
       "      <td>753882</td>\n",
       "      <td>public class TEST{\\n    public double probePro...</td>\n",
       "    </tr>\n",
       "    <tr>\n",
       "      <th>9322</th>\n",
       "      <td>980143</td>\n",
       "      <td>public class TEST{\\n    public static ByteBuff...</td>\n",
       "    </tr>\n",
       "  </tbody>\n",
       "</table>\n",
       "<p>9323 rows × 2 columns</p>\n",
       "</div>"
      ],
      "text/plain": [
       "            id                                               code\n",
       "0     10488107  public class TEST{\\n    /**\\n\\t   * encriptaDa...\n",
       "1      7366066  public class TEST{\\n        public BugReportVi...\n",
       "2       963537  public class TEST{\\n    public String[] execut...\n",
       "3      1455978  public class TEST{\\n    /**\\n\\t * 以文本格式发送邮件　　 ...\n",
       "4      2195116  public class TEST{\\n    /**\\n     *    METHOD ...\n",
       "...        ...                                                ...\n",
       "9318  15185953  public class TEST{\\n    private static Compone...\n",
       "9319   5293839  public class TEST{\\n    /**\\n\\t * Open a URL u...\n",
       "9320   6164580  public class TEST{\\n    public void calcCRC() ...\n",
       "9321    753882  public class TEST{\\n    public double probePro...\n",
       "9322    980143  public class TEST{\\n    public static ByteBuff...\n",
       "\n",
       "[9323 rows x 2 columns]"
      ]
     },
     "execution_count": 2,
     "metadata": {},
     "output_type": "execute_result"
    }
   ],
   "source": [
    "## cbcb\n",
    "data = {'id':[], 'code':[]}\n",
    "for i in os.listdir('../dataset/cbcb/funcs'):\n",
    "    data['id'].append(int(i))\n",
    "    with open('../dataset/cbcb/funcs/'+i) as f:\n",
    "        data['code'].append(f.read())\n",
    "df = pd.DataFrame(data)\n",
    "df.to_csv('./data/c/bcb_funcs_all.tsv', sep='\\t', header=None, encoding='utf-8', index=None)\n",
    "df"
   ]
  },
  {
   "cell_type": "code",
   "execution_count": 7,
   "metadata": {
    "collapsed": false,
    "pycharm": {
     "name": "#%%\n"
    }
   },
   "outputs": [
    {
     "ename": "FileNotFoundError",
     "evalue": "[Errno 2] No such file or directory: './data/java/gcj_funcs_all.tsv'",
     "output_type": "error",
     "traceback": [
      "\u001b[0;31m---------------------------------------------------------------------------\u001b[0m",
      "\u001b[0;31mFileNotFoundError\u001b[0m                         Traceback (most recent call last)",
      "\u001b[0;32m/var/folders/_s/2qc0k9h525n09rcyp86lcjvw0000gn/T/ipykernel_3569/814936230.py\u001b[0m in \u001b[0;36m<module>\u001b[0;34m\u001b[0m\n\u001b[1;32m      6\u001b[0m         \u001b[0mdata\u001b[0m\u001b[0;34m[\u001b[0m\u001b[0;34m'code'\u001b[0m\u001b[0;34m]\u001b[0m\u001b[0;34m.\u001b[0m\u001b[0mappend\u001b[0m\u001b[0;34m(\u001b[0m\u001b[0mf\u001b[0m\u001b[0;34m.\u001b[0m\u001b[0mread\u001b[0m\u001b[0;34m(\u001b[0m\u001b[0;34m)\u001b[0m\u001b[0;34m)\u001b[0m\u001b[0;34m\u001b[0m\u001b[0;34m\u001b[0m\u001b[0m\n\u001b[1;32m      7\u001b[0m \u001b[0mdf\u001b[0m \u001b[0;34m=\u001b[0m \u001b[0mpd\u001b[0m\u001b[0;34m.\u001b[0m\u001b[0mDataFrame\u001b[0m\u001b[0;34m(\u001b[0m\u001b[0mdata\u001b[0m\u001b[0;34m)\u001b[0m\u001b[0;34m\u001b[0m\u001b[0;34m\u001b[0m\u001b[0m\n\u001b[0;32m----> 8\u001b[0;31m \u001b[0mdf\u001b[0m\u001b[0;34m.\u001b[0m\u001b[0mto_csv\u001b[0m\u001b[0;34m(\u001b[0m\u001b[0;34m'./data/java/gcj_funcs_all.tsv'\u001b[0m\u001b[0;34m,\u001b[0m \u001b[0msep\u001b[0m\u001b[0;34m=\u001b[0m\u001b[0;34m'\\t'\u001b[0m\u001b[0;34m,\u001b[0m \u001b[0mheader\u001b[0m\u001b[0;34m=\u001b[0m\u001b[0;32mNone\u001b[0m\u001b[0;34m,\u001b[0m \u001b[0mencoding\u001b[0m\u001b[0;34m=\u001b[0m\u001b[0;34m'utf-8'\u001b[0m\u001b[0;34m,\u001b[0m \u001b[0mindex\u001b[0m\u001b[0;34m=\u001b[0m\u001b[0;32mNone\u001b[0m\u001b[0;34m)\u001b[0m\u001b[0;34m\u001b[0m\u001b[0;34m\u001b[0m\u001b[0m\n\u001b[0m\u001b[1;32m      9\u001b[0m \u001b[0mdf\u001b[0m\u001b[0;34m.\u001b[0m\u001b[0mhead\u001b[0m\u001b[0;34m(\u001b[0m\u001b[0;34m)\u001b[0m\u001b[0;34m\u001b[0m\u001b[0;34m\u001b[0m\u001b[0m\n",
      "\u001b[0;32m~/miniconda3/envs/network/lib/python3.7/site-packages/pandas/core/generic.py\u001b[0m in \u001b[0;36mto_csv\u001b[0;34m(self, path_or_buf, sep, na_rep, float_format, columns, header, index, index_label, mode, encoding, compression, quoting, quotechar, line_terminator, chunksize, date_format, doublequote, escapechar, decimal)\u001b[0m\n\u001b[1;32m   3202\u001b[0m             \u001b[0mdecimal\u001b[0m\u001b[0;34m=\u001b[0m\u001b[0mdecimal\u001b[0m\u001b[0;34m,\u001b[0m\u001b[0;34m\u001b[0m\u001b[0;34m\u001b[0m\u001b[0m\n\u001b[1;32m   3203\u001b[0m         )\n\u001b[0;32m-> 3204\u001b[0;31m         \u001b[0mformatter\u001b[0m\u001b[0;34m.\u001b[0m\u001b[0msave\u001b[0m\u001b[0;34m(\u001b[0m\u001b[0;34m)\u001b[0m\u001b[0;34m\u001b[0m\u001b[0;34m\u001b[0m\u001b[0m\n\u001b[0m\u001b[1;32m   3205\u001b[0m \u001b[0;34m\u001b[0m\u001b[0m\n\u001b[1;32m   3206\u001b[0m         \u001b[0;32mif\u001b[0m \u001b[0mpath_or_buf\u001b[0m \u001b[0;32mis\u001b[0m \u001b[0;32mNone\u001b[0m\u001b[0;34m:\u001b[0m\u001b[0;34m\u001b[0m\u001b[0;34m\u001b[0m\u001b[0m\n",
      "\u001b[0;32m~/miniconda3/envs/network/lib/python3.7/site-packages/pandas/io/formats/csvs.py\u001b[0m in \u001b[0;36msave\u001b[0;34m(self)\u001b[0m\n\u001b[1;32m    186\u001b[0m                 \u001b[0mself\u001b[0m\u001b[0;34m.\u001b[0m\u001b[0mmode\u001b[0m\u001b[0;34m,\u001b[0m\u001b[0;34m\u001b[0m\u001b[0;34m\u001b[0m\u001b[0m\n\u001b[1;32m    187\u001b[0m                 \u001b[0mencoding\u001b[0m\u001b[0;34m=\u001b[0m\u001b[0mself\u001b[0m\u001b[0;34m.\u001b[0m\u001b[0mencoding\u001b[0m\u001b[0;34m,\u001b[0m\u001b[0;34m\u001b[0m\u001b[0;34m\u001b[0m\u001b[0m\n\u001b[0;32m--> 188\u001b[0;31m                 \u001b[0mcompression\u001b[0m\u001b[0;34m=\u001b[0m\u001b[0mdict\u001b[0m\u001b[0;34m(\u001b[0m\u001b[0mself\u001b[0m\u001b[0;34m.\u001b[0m\u001b[0mcompression_args\u001b[0m\u001b[0;34m,\u001b[0m \u001b[0mmethod\u001b[0m\u001b[0;34m=\u001b[0m\u001b[0mself\u001b[0m\u001b[0;34m.\u001b[0m\u001b[0mcompression\u001b[0m\u001b[0;34m)\u001b[0m\u001b[0;34m,\u001b[0m\u001b[0;34m\u001b[0m\u001b[0;34m\u001b[0m\u001b[0m\n\u001b[0m\u001b[1;32m    189\u001b[0m             )\n\u001b[1;32m    190\u001b[0m             \u001b[0mclose\u001b[0m \u001b[0;34m=\u001b[0m \u001b[0;32mTrue\u001b[0m\u001b[0;34m\u001b[0m\u001b[0;34m\u001b[0m\u001b[0m\n",
      "\u001b[0;32m~/miniconda3/envs/network/lib/python3.7/site-packages/pandas/io/common.py\u001b[0m in \u001b[0;36mget_handle\u001b[0;34m(path_or_buf, mode, encoding, compression, memory_map, is_text)\u001b[0m\n\u001b[1;32m    426\u001b[0m         \u001b[0;32mif\u001b[0m \u001b[0mencoding\u001b[0m\u001b[0;34m:\u001b[0m\u001b[0;34m\u001b[0m\u001b[0;34m\u001b[0m\u001b[0m\n\u001b[1;32m    427\u001b[0m             \u001b[0;31m# Encoding\u001b[0m\u001b[0;34m\u001b[0m\u001b[0;34m\u001b[0m\u001b[0;34m\u001b[0m\u001b[0m\n\u001b[0;32m--> 428\u001b[0;31m             \u001b[0mf\u001b[0m \u001b[0;34m=\u001b[0m \u001b[0mopen\u001b[0m\u001b[0;34m(\u001b[0m\u001b[0mpath_or_buf\u001b[0m\u001b[0;34m,\u001b[0m \u001b[0mmode\u001b[0m\u001b[0;34m,\u001b[0m \u001b[0mencoding\u001b[0m\u001b[0;34m=\u001b[0m\u001b[0mencoding\u001b[0m\u001b[0;34m,\u001b[0m \u001b[0mnewline\u001b[0m\u001b[0;34m=\u001b[0m\u001b[0;34m\"\"\u001b[0m\u001b[0;34m)\u001b[0m\u001b[0;34m\u001b[0m\u001b[0;34m\u001b[0m\u001b[0m\n\u001b[0m\u001b[1;32m    429\u001b[0m         \u001b[0;32melif\u001b[0m \u001b[0mis_text\u001b[0m\u001b[0;34m:\u001b[0m\u001b[0;34m\u001b[0m\u001b[0;34m\u001b[0m\u001b[0m\n\u001b[1;32m    430\u001b[0m             \u001b[0;31m# No explicit encoding\u001b[0m\u001b[0;34m\u001b[0m\u001b[0;34m\u001b[0m\u001b[0;34m\u001b[0m\u001b[0m\n",
      "\u001b[0;31mFileNotFoundError\u001b[0m: [Errno 2] No such file or directory: './data/java/gcj_funcs_all.tsv'"
     ]
    }
   ],
   "source": [
    "## gcj\n",
    "data = {'id':[], 'code':[]}\n",
    "for i in os.listdir('../dataset/gcj/code/'):\n",
    "    data['id'].append(int(i.replace('.txt', '')))\n",
    "    with open('../dataset/gcj/code/'+i) as f:\n",
    "        data['code'].append(f.read())\n",
    "df = pd.DataFrame(data)\n",
    "df.to_csv('./data/java/gcj_funcs_all.tsv', sep='\\t', header=None, encoding='utf-8', index=None)\n",
    "df.head()"
   ]
  },
  {
   "cell_type": "code",
   "execution_count": 9,
   "metadata": {},
   "outputs": [
    {
     "data": {
      "text/html": [
       "<div>\n",
       "<style scoped>\n",
       "    .dataframe tbody tr th:only-of-type {\n",
       "        vertical-align: middle;\n",
       "    }\n",
       "\n",
       "    .dataframe tbody tr th {\n",
       "        vertical-align: top;\n",
       "    }\n",
       "\n",
       "    .dataframe thead th {\n",
       "        text-align: right;\n",
       "    }\n",
       "</style>\n",
       "<table border=\"1\" class=\"dataframe\">\n",
       "  <thead>\n",
       "    <tr style=\"text-align: right;\">\n",
       "      <th></th>\n",
       "      <th>id</th>\n",
       "      <th>code</th>\n",
       "    </tr>\n",
       "  </thead>\n",
       "  <tbody>\n",
       "    <tr>\n",
       "      <th>0</th>\n",
       "      <td>13514</td>\n",
       "      <td>package googlejam6.p607;\\nimport java.io.*;\\ni...</td>\n",
       "    </tr>\n",
       "    <tr>\n",
       "      <th>1</th>\n",
       "      <td>13272</td>\n",
       "      <td>package googlejam3.p323;\\nimport java.io.Buffe...</td>\n",
       "    </tr>\n",
       "    <tr>\n",
       "      <th>2</th>\n",
       "      <td>11471</td>\n",
       "      <td>import java.util.ArrayList;\\n import java.util...</td>\n",
       "    </tr>\n",
       "    <tr>\n",
       "      <th>3</th>\n",
       "      <td>8063</td>\n",
       "      <td>package com.codejam.code1;\\n import java.util....</td>\n",
       "    </tr>\n",
       "    <tr>\n",
       "      <th>4</th>\n",
       "      <td>13266</td>\n",
       "      <td>package googlejam3.p063;\\n// Google Code Jam R...</td>\n",
       "    </tr>\n",
       "  </tbody>\n",
       "</table>\n",
       "</div>"
      ],
      "text/plain": [
       "      id                                               code\n",
       "0  13514  package googlejam6.p607;\\nimport java.io.*;\\ni...\n",
       "1  13272  package googlejam3.p323;\\nimport java.io.Buffe...\n",
       "2  11471  import java.util.ArrayList;\\n import java.util...\n",
       "3   8063  package com.codejam.code1;\\n import java.util....\n",
       "4  13266  package googlejam3.p063;\\n// Google Code Jam R..."
      ]
     },
     "execution_count": 9,
     "metadata": {},
     "output_type": "execute_result"
    }
   ],
   "source": [
    "## cross-gcj\n",
    "data = {'id':[], 'code':[]}\n",
    "for i in os.listdir('../dataset/gcj_merge/code/'):\n",
    "    data['id'].append(int(i.replace('.txt', '')))\n",
    "    with open('../dataset/gcj_merge/code/'+i) as f:\n",
    "        data['code'].append(f.read())\n",
    "df = pd.DataFrame(data)\n",
    "df.to_csv('./data/cross-gcj/funcs_all.tsv', sep='\\t', header=None, encoding='utf-8', index=None)\n",
    "df.head()"
   ]
  },
  {
   "cell_type": "code",
   "execution_count": null,
   "metadata": {},
   "outputs": [],
   "source": []
  },
  {
   "cell_type": "code",
   "execution_count": 5,
   "metadata": {},
   "outputs": [
    {
     "data": {
      "text/html": [
       "<div>\n",
       "<style scoped>\n",
       "    .dataframe tbody tr th:only-of-type {\n",
       "        vertical-align: middle;\n",
       "    }\n",
       "\n",
       "    .dataframe tbody tr th {\n",
       "        vertical-align: top;\n",
       "    }\n",
       "\n",
       "    .dataframe thead th {\n",
       "        text-align: right;\n",
       "    }\n",
       "</style>\n",
       "<table border=\"1\" class=\"dataframe\">\n",
       "  <thead>\n",
       "    <tr style=\"text-align: right;\">\n",
       "      <th></th>\n",
       "      <th>id1</th>\n",
       "      <th>id2</th>\n",
       "      <th>label</th>\n",
       "    </tr>\n",
       "  </thead>\n",
       "  <tbody>\n",
       "    <tr>\n",
       "      <th>0</th>\n",
       "      <td>3024986</td>\n",
       "      <td>3024993</td>\n",
       "      <td>2</td>\n",
       "    </tr>\n",
       "    <tr>\n",
       "      <th>1</th>\n",
       "      <td>308643</td>\n",
       "      <td>727183</td>\n",
       "      <td>1</td>\n",
       "    </tr>\n",
       "    <tr>\n",
       "      <th>2</th>\n",
       "      <td>308643</td>\n",
       "      <td>587124</td>\n",
       "      <td>1</td>\n",
       "    </tr>\n",
       "    <tr>\n",
       "      <th>3</th>\n",
       "      <td>308643</td>\n",
       "      <td>481939</td>\n",
       "      <td>1</td>\n",
       "    </tr>\n",
       "    <tr>\n",
       "      <th>4</th>\n",
       "      <td>210006</td>\n",
       "      <td>308643</td>\n",
       "      <td>1</td>\n",
       "    </tr>\n",
       "  </tbody>\n",
       "</table>\n",
       "</div>"
      ],
      "text/plain": [
       "       id1      id2 label\n",
       "0  3024986  3024993     2\n",
       "1   308643   727183     1\n",
       "2   308643   587124     1\n",
       "3   308643   481939     1\n",
       "4   210006   308643     1"
      ]
     },
     "execution_count": 5,
     "metadata": {},
     "output_type": "execute_result"
    }
   ],
   "source": [
    "pairs = pd.read_pickle('./data/java/bcb_pair_ids.pkl')\n",
    "pairs.head()"
   ]
  },
  {
   "cell_type": "code",
   "execution_count": 5,
   "metadata": {},
   "outputs": [
    {
     "name": "stdout",
     "output_type": "stream",
     "text": [
      "(500000, 3)\n",
      "(500000, 3)\n"
     ]
    }
   ],
   "source": [
    "train_data = np.load('../dataset/train_split/gcj/gcj_sample.npy')\n",
    "train_df = pd.DataFrame(train_data, columns=['id1', 'id2', 'label'])\n",
    "print(train_df.shape)\n",
    "train_df.loc[train_df['label']==-1, 'label']=0\n",
    "train_df.to_pickle('./data/train_data/cross-gcj/gcj_sample.pkl')\n",
    "\n",
    "test_data = np.load('../dataset/train_split/gcj/gcj_old.npy')\n",
    "test_df = pd.DataFrame(test_data, columns=['id1', 'id2', 'label'])\n",
    "print(test_df.shape)\n",
    "test_df.loc[test_df['label']==-1, 'label']=0\n",
    "test_df.to_pickle('./data/train_data/cross-gcj/gcj_old.pkl')"
   ]
  },
  {
   "cell_type": "code",
   "execution_count": 14,
   "metadata": {},
   "outputs": [
    {
     "name": "stdout",
     "output_type": "stream",
     "text": [
      "train_fun0 (731180, 3)\n",
      "test_fun0 (118705, 3)\n",
      "val_fun0 (116898, 3)\n",
      "train_random0 (429135, 3)\n",
      "test_random0 (48812, 3)\n",
      "val_random0 (47776, 3)\n",
      "train_fun1 (867008, 3)\n",
      "test_fun1 (84743, 3)\n",
      "val_fun1 (83048, 3)\n",
      "train_random1 (429135, 3)\n",
      "test_random1 (48812, 3)\n",
      "val_random1 (47776, 3)\n",
      "train_fun2 (731114, 3)\n",
      "test_fun2 (118618, 3)\n",
      "val_fun2 (117004, 3)\n",
      "train_random2 (429135, 3)\n",
      "test_random2 (48812, 3)\n",
      "val_random2 (47776, 3)\n"
     ]
    }
   ],
   "source": [
    "import numpy as np\n",
    "# cbcb\n",
    "for i in ['0','1','2']:\n",
    "    for label in ['fun','random']:\n",
    "        for l in ['train', 'test', 'val']:\n",
    "            f = l+'_'+label + i\n",
    "            data = np.load('../dataset/train_split/cbcb/'+f+'.npy')\n",
    "            df = pd.DataFrame(data, columns=['id1', 'id2', 'label'])\n",
    "            print(f, df.shape)\n",
    "            df.loc[df['label']==-1, 'label']=0\n",
    "            df.to_pickle('./data/train_data/cbcb/'+f)"
   ]
  },
  {
   "cell_type": "code",
   "execution_count": 16,
   "metadata": {},
   "outputs": [
    {
     "name": "stdout",
     "output_type": "stream",
     "text": [
      "train_fun0 (500000, 3)\n",
      "test_fun0 (250000, 3)\n",
      "val_fun0 (250000, 3)\n",
      "train_random0 (500000, 3)\n",
      "test_random0 (250000, 3)\n",
      "val_random0 (250000, 3)\n",
      "train_fun1 (500000, 3)\n",
      "test_fun1 (250000, 3)\n",
      "val_fun1 (250000, 3)\n",
      "train_random1 (500000, 3)\n",
      "test_random1 (250000, 3)\n",
      "val_random1 (250000, 3)\n",
      "train_fun2 (500000, 3)\n",
      "test_fun2 (250000, 3)\n",
      "val_fun2 (250000, 3)\n",
      "train_random2 (500000, 3)\n",
      "test_random2 (250000, 3)\n",
      "val_random2 (250000, 3)\n"
     ]
    }
   ],
   "source": [
    "import numpy as np\n",
    "# gcj\n",
    "for i in ['0','1','2']:\n",
    "    for label in ['fun','random']:\n",
    "        for l in ['train', 'test', 'val']:\n",
    "            f = l+'_'+label + i\n",
    "            data = np.load('../dataset/train_split/gcj/'+f+'.npy')\n",
    "            df = pd.DataFrame(data, columns=['id1', 'id2', 'label'])\n",
    "            print(f, df.shape)\n",
    "            df.loc[df['label']==-1, 'label']=0\n",
    "            df.to_pickle('./data/train_data/gcj/'+f)"
   ]
  },
  {
   "cell_type": "code",
   "execution_count": 10,
   "metadata": {},
   "outputs": [
    {
     "name": "stderr",
     "output_type": "stream",
     "text": [
      "/Users/haiyangli/miniconda3/envs/network/lib/python3.7/site-packages/ipykernel_launcher.py:1: SettingWithCopyWarning: \n",
      "A value is trying to be set on a copy of a slice from a DataFrame.\n",
      "Try using .loc[row_indexer,col_indexer] = value instead\n",
      "\n",
      "See the caveats in the documentation: https://pandas.pydata.org/pandas-docs/stable/user_guide/indexing.html#returning-a-view-versus-a-copy\n",
      "  \"\"\"Entry point for launching an IPython kernel.\n"
     ]
    }
   ],
   "source": [
    "df[df['label']==-1]['label'] = 0"
   ]
  },
  {
   "cell_type": "code",
   "execution_count": 12,
   "metadata": {},
   "outputs": [
    {
     "data": {
      "text/html": [
       "<div>\n",
       "<style scoped>\n",
       "    .dataframe tbody tr th:only-of-type {\n",
       "        vertical-align: middle;\n",
       "    }\n",
       "\n",
       "    .dataframe tbody tr th {\n",
       "        vertical-align: top;\n",
       "    }\n",
       "\n",
       "    .dataframe thead th {\n",
       "        text-align: right;\n",
       "    }\n",
       "</style>\n",
       "<table border=\"1\" class=\"dataframe\">\n",
       "  <thead>\n",
       "    <tr style=\"text-align: right;\">\n",
       "      <th></th>\n",
       "      <th>id1</th>\n",
       "      <th>id2</th>\n",
       "      <th>label</th>\n",
       "    </tr>\n",
       "  </thead>\n",
       "  <tbody>\n",
       "    <tr>\n",
       "      <th>48807</th>\n",
       "      <td>395956</td>\n",
       "      <td>3817415</td>\n",
       "      <td>0</td>\n",
       "    </tr>\n",
       "    <tr>\n",
       "      <th>48808</th>\n",
       "      <td>395956</td>\n",
       "      <td>4643968</td>\n",
       "      <td>0</td>\n",
       "    </tr>\n",
       "    <tr>\n",
       "      <th>48809</th>\n",
       "      <td>395956</td>\n",
       "      <td>526581</td>\n",
       "      <td>0</td>\n",
       "    </tr>\n",
       "    <tr>\n",
       "      <th>48810</th>\n",
       "      <td>395956</td>\n",
       "      <td>3640858</td>\n",
       "      <td>0</td>\n",
       "    </tr>\n",
       "    <tr>\n",
       "      <th>48811</th>\n",
       "      <td>395956</td>\n",
       "      <td>4426358</td>\n",
       "      <td>0</td>\n",
       "    </tr>\n",
       "  </tbody>\n",
       "</table>\n",
       "</div>"
      ],
      "text/plain": [
       "          id1      id2  label\n",
       "48807  395956  3817415      0\n",
       "48808  395956  4643968      0\n",
       "48809  395956   526581      0\n",
       "48810  395956  3640858      0\n",
       "48811  395956  4426358      0"
      ]
     },
     "execution_count": 12,
     "metadata": {},
     "output_type": "execute_result"
    }
   ],
   "source": [
    "df.loc[df['label']==-1, 'label']=0\n",
    "df.tail()"
   ]
  },
  {
   "cell_type": "code",
   "execution_count": 2,
   "metadata": {},
   "outputs": [],
   "source": []
  },
  {
   "cell_type": "code",
   "execution_count": null,
   "metadata": {},
   "outputs": [],
   "source": []
  }
 ],
 "metadata": {
  "kernelspec": {
   "display_name": "Python 3.7.11 ('network')",
   "language": "python",
   "name": "python3"
  },
  "language_info": {
   "codemirror_mode": {
    "name": "ipython",
    "version": 3
   },
   "file_extension": ".py",
   "mimetype": "text/x-python",
   "name": "python",
   "nbconvert_exporter": "python",
   "pygments_lexer": "ipython3",
   "version": "3.7.11"
  },
  "vscode": {
   "interpreter": {
    "hash": "92e580cb3a4af048fc0bc8e4f87f44c68a85c7d18ab7036def07bcb6c2609eef"
   }
  }
 },
 "nbformat": 4,
 "nbformat_minor": 0
}
