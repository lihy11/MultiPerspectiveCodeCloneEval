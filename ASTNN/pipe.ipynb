{
 "cells": [
  {
   "cell_type": "code",
   "execution_count": 1,
   "metadata": {},
   "outputs": [],
   "source": [
    "import pandas as pd\n",
    "import numpy as np\n",
    "import os\n",
    "import javalang"
   ]
  },
  {
   "cell_type": "code",
   "execution_count": 2,
   "metadata": {},
   "outputs": [],
   "source": [
    "root = 'data/'\n",
    "language = 'gcj/'"
   ]
  },
  {
   "cell_type": "code",
   "execution_count": 3,
   "metadata": {},
   "outputs": [],
   "source": [
    "def parse_source(output_file):\n",
    "    path = root+language+'/'+output_file\n",
    "    def parse_program(func):\n",
    "        tokens = javalang.tokenizer.tokenize(func)\n",
    "        tree = javalang.parser.parse(tokens)\n",
    "        return tree\n",
    "    source = {'id':[], 'code':[]}\n",
    "    for id in os.listdir('../dataset/gcj_merge/code/'):\n",
    "        source['id'].append(int(id.replace('.txt', '')))\n",
    "        with open('../dataset/gcj_merge/code/'+id, 'r') as f:\n",
    "            s = f.read()\n",
    "        try:\n",
    "            tree = parse_program(s)\n",
    "        except:\n",
    "            tree = None\n",
    "        source['code'].append(tree)\n",
    "\n",
    "    source = pd.DataFrame(source)\n",
    "    source.to_pickle(path)\n",
    "    return source"
   ]
  },
  {
   "cell_type": "code",
   "execution_count": 4,
   "metadata": {},
   "outputs": [],
   "source": [
    "source = parse_source(output_file='ast.pkl')"
   ]
  },
  {
   "cell_type": "code",
   "execution_count": 5,
   "metadata": {},
   "outputs": [
    {
     "data": {
      "text/plain": [
       "(3330, 2)"
      ]
     },
     "execution_count": 5,
     "metadata": {},
     "output_type": "execute_result"
    }
   ],
   "source": [
    "source = source.dropna()\n",
    "source.shape"
   ]
  },
  {
   "cell_type": "code",
   "execution_count": 10,
   "metadata": {},
   "outputs": [
    {
     "data": {
      "text/plain": [
       "(3330, 2)"
      ]
     },
     "execution_count": 10,
     "metadata": {},
     "output_type": "execute_result"
    }
   ],
   "source": [
    "source.shape"
   ]
  },
  {
   "cell_type": "code",
   "execution_count": 6,
   "metadata": {},
   "outputs": [],
   "source": [
    "def dictionary_and_embedding(size):\n",
    "    data_path = root+language\n",
    "\n",
    "    trees = source   # 个人更改\n",
    "    if not os.path.exists(data_path+'embedding'):\n",
    "        os.mkdir(data_path+'embedding')\n",
    "\n",
    "    from utils import get_sequence as func\n",
    "\n",
    "    def trans_to_sequences(ast):\n",
    "        sequence = []\n",
    "        func(ast, sequence)\n",
    "        return sequence\n",
    "    corpus = trees['code'].apply(trans_to_sequences)\n",
    "    # str_corpus = [' '.join(c) for c in corpus]\n",
    "    # trees['code'] = pd.Series(str_corpus)\n",
    "    # trees.to_csv(data_path+'train/programs_ns.tsv')\n",
    "\n",
    "    from gensim.models.word2vec import Word2Vec\n",
    "    w2v = Word2Vec(corpus, size=size, workers=16, sg=1, max_final_vocab=3000)\n",
    "    w2v.save(data_path+'embedding/node_w2v_' + str(size))"
   ]
  },
  {
   "cell_type": "code",
   "execution_count": 7,
   "metadata": {},
   "outputs": [],
   "source": [
    "dictionary_and_embedding(128)"
   ]
  },
  {
   "cell_type": "code",
   "execution_count": null,
   "metadata": {},
   "outputs": [],
   "source": []
  },
  {
   "cell_type": "code",
   "execution_count": 8,
   "metadata": {},
   "outputs": [],
   "source": [
    "def generate_block_seqs(source, size):\n",
    "    from utils import get_blocks_v1 as func\n",
    "    from gensim.models.word2vec import Word2Vec\n",
    "\n",
    "    word2vec = Word2Vec.load(root+language+'embedding/node_w2v_' + str(size)).wv\n",
    "    vocab = word2vec.vocab\n",
    "    max_token = word2vec.syn0.shape[0]\n",
    "\n",
    "    def tree_to_index(node):\n",
    "        token = node.token\n",
    "        result = [vocab[token].index if token in vocab else max_token]\n",
    "        children = node.children\n",
    "        for child in children:\n",
    "            result.append(tree_to_index(child))\n",
    "        return result\n",
    "\n",
    "    def trans2seq(r):\n",
    "        blocks = []\n",
    "        func(r, blocks)\n",
    "        tree = []\n",
    "        for b in blocks:\n",
    "            btree = tree_to_index(b)\n",
    "            tree.append(btree)\n",
    "        return tree\n",
    "    trees = pd.DataFrame(source, copy=True)\n",
    "    codes = []\n",
    "    for _, row in trees.iterrows():\n",
    "        # print(row['id'])\n",
    "        # if row['id'] != 6933:\n",
    "        #     continue\n",
    "        codes.append(trans2seq(row['code']))\n",
    "    trees['code'] = codes\n",
    "    if 'label' in trees.columns:\n",
    "        trees.drop('label', axis=1, inplace=True)\n",
    "    return trees"
   ]
  },
  {
   "cell_type": "code",
   "execution_count": 9,
   "metadata": {},
   "outputs": [
    {
     "name": "stderr",
     "output_type": "stream",
     "text": [
      "/Users/haiyangli/miniconda3/envs/network/lib/python3.7/site-packages/ipykernel_launcher.py:7: DeprecationWarning: Call to deprecated `syn0` (Attribute will be removed in 4.0.0, use self.wv.vectors instead).\n",
      "  import sys\n"
     ]
    }
   ],
   "source": [
    "trees = generate_block_seqs(source, size=128)"
   ]
  },
  {
   "cell_type": "code",
   "execution_count": 10,
   "metadata": {},
   "outputs": [],
   "source": [
    "trees.to_pickle(root+language+'blocks.pkl')"
   ]
  },
  {
   "cell_type": "code",
   "execution_count": 11,
   "metadata": {},
   "outputs": [
    {
     "data": {
      "text/plain": [
       "(3330, 2)"
      ]
     },
     "execution_count": 11,
     "metadata": {},
     "output_type": "execute_result"
    }
   ],
   "source": [
    "trees.shape"
   ]
  },
  {
   "cell_type": "code",
   "execution_count": 12,
   "metadata": {},
   "outputs": [],
   "source": [
    "def merge(data_path, blocks):\n",
    "    pairs = pd.read_pickle(data_path)\n",
    "    pairs['id1'] = pairs['id1'].astype(int)\n",
    "    pairs['id2'] = pairs['id2'].astype(int)\n",
    "    df = pd.merge(pairs, blocks, how='left', left_on='id1', right_on='id')\n",
    "    df = pd.merge(df, blocks, how='left', left_on='id2', right_on='id')\n",
    "    df.drop(['id_x', 'id_y'], axis=1,inplace=True)\n",
    "    df.dropna(inplace=True)\n",
    "    print(data_path, df.shape)\n",
    "    df.to_pickle(data_path + '_blocks.pkl')\n"
   ]
  },
  {
   "cell_type": "code",
   "execution_count": 13,
   "metadata": {},
   "outputs": [
    {
     "name": "stdout",
     "output_type": "stream",
     "text": [
      "./data/train_data/cross-gcj/gcj_sample.pkl (500000, 5)\n",
      "./data/train_data/cross-gcj/gcj_old.pkl (500000, 5)\n"
     ]
    }
   ],
   "source": [
    "#gcj cross\n",
    "merge('./data/train_data/cross-gcj/gcj_sample.pkl', trees)\n",
    "merge('./data/train_data/cross-gcj/gcj_old.pkl', trees)"
   ]
  },
  {
   "cell_type": "code",
   "execution_count": 34,
   "metadata": {},
   "outputs": [
    {
     "name": "stdout",
     "output_type": "stream",
     "text": [
      "./data/train_data/cbcb/train_fun0 (731180, 5)\n",
      "./data/train_data/cbcb/test_fun0 (118705, 5)\n",
      "./data/train_data/cbcb/val_fun0 (116898, 5)\n",
      "./data/train_data/cbcb/train_random0 (429135, 5)\n",
      "./data/train_data/cbcb/test_random0 (48812, 5)\n",
      "./data/train_data/cbcb/val_random0 (47776, 5)\n",
      "./data/train_data/cbcb/train_fun1 (867008, 5)\n",
      "./data/train_data/cbcb/test_fun1 (84743, 5)\n",
      "./data/train_data/cbcb/val_fun1 (83048, 5)\n",
      "./data/train_data/cbcb/train_random1 (429135, 5)\n",
      "./data/train_data/cbcb/test_random1 (48812, 5)\n",
      "./data/train_data/cbcb/val_random1 (47776, 5)\n",
      "./data/train_data/cbcb/train_fun2 (731114, 5)\n",
      "./data/train_data/cbcb/test_fun2 (118618, 5)\n",
      "./data/train_data/cbcb/val_fun2 (117004, 5)\n",
      "./data/train_data/cbcb/train_random2 (429135, 5)\n",
      "./data/train_data/cbcb/test_random2 (48812, 5)\n",
      "./data/train_data/cbcb/val_random2 (47776, 5)\n"
     ]
    }
   ],
   "source": [
    "# gcj\n",
    "root = './data/train_data/cbcb/'\n",
    "for i in ['0','1','2']:\n",
    "    for label in ['fun','random']:\n",
    "        for l in ['train', 'test', 'val']:\n",
    "            f = l+'_'+label + i\n",
    "            merge(root+f, trees)\n"
   ]
  },
  {
   "cell_type": "code",
   "execution_count": 35,
   "metadata": {},
   "outputs": [
    {
     "data": {
      "text/html": [
       "<div>\n",
       "<style scoped>\n",
       "    .dataframe tbody tr th:only-of-type {\n",
       "        vertical-align: middle;\n",
       "    }\n",
       "\n",
       "    .dataframe tbody tr th {\n",
       "        vertical-align: top;\n",
       "    }\n",
       "\n",
       "    .dataframe thead th {\n",
       "        text-align: right;\n",
       "    }\n",
       "</style>\n",
       "<table border=\"1\" class=\"dataframe\">\n",
       "  <thead>\n",
       "    <tr style=\"text-align: right;\">\n",
       "      <th></th>\n",
       "      <th>id1</th>\n",
       "      <th>id2</th>\n",
       "      <th>label</th>\n",
       "      <th>code_x</th>\n",
       "      <th>code_y</th>\n",
       "    </tr>\n",
       "  </thead>\n",
       "  <tbody>\n",
       "    <tr>\n",
       "      <th>0</th>\n",
       "      <td>4599608</td>\n",
       "      <td>21979462</td>\n",
       "      <td>1</td>\n",
       "      <td>[[26, [2947], [17, [60], [23]], [423], [21, [4...</td>\n",
       "      <td>[[26, [17, [199]], [4, [22]], [2947], [21, [4,...</td>\n",
       "    </tr>\n",
       "    <tr>\n",
       "      <th>1</th>\n",
       "      <td>15639580</td>\n",
       "      <td>21979462</td>\n",
       "      <td>1</td>\n",
       "      <td>[[300, [17, [23]], [2947], [2947], [21, [4, [1...</td>\n",
       "      <td>[[26, [17, [199]], [4, [22]], [2947], [21, [4,...</td>\n",
       "    </tr>\n",
       "    <tr>\n",
       "      <th>2</th>\n",
       "      <td>323161</td>\n",
       "      <td>21979462</td>\n",
       "      <td>1</td>\n",
       "      <td>[[26, [17, [60], [23]], [857], [21, [4, [731]]...</td>\n",
       "      <td>[[26, [17, [199]], [4, [22]], [2947], [21, [4,...</td>\n",
       "    </tr>\n",
       "    <tr>\n",
       "      <th>3</th>\n",
       "      <td>813588</td>\n",
       "      <td>21979462</td>\n",
       "      <td>1</td>\n",
       "      <td>[[26, [17, [60], [23]], [857], [21, [4, [731]]...</td>\n",
       "      <td>[[26, [17, [199]], [4, [22]], [2947], [21, [4,...</td>\n",
       "    </tr>\n",
       "    <tr>\n",
       "      <th>4</th>\n",
       "      <td>4530695</td>\n",
       "      <td>21979462</td>\n",
       "      <td>1</td>\n",
       "      <td>[[26, [17, [53]], [4, [22]], [2947], [21, [4, ...</td>\n",
       "      <td>[[26, [17, [199]], [4, [22]], [2947], [21, [4,...</td>\n",
       "    </tr>\n",
       "  </tbody>\n",
       "</table>\n",
       "</div>"
      ],
      "text/plain": [
       "        id1       id2  label  \\\n",
       "0   4599608  21979462      1   \n",
       "1  15639580  21979462      1   \n",
       "2    323161  21979462      1   \n",
       "3    813588  21979462      1   \n",
       "4   4530695  21979462      1   \n",
       "\n",
       "                                              code_x  \\\n",
       "0  [[26, [2947], [17, [60], [23]], [423], [21, [4...   \n",
       "1  [[300, [17, [23]], [2947], [2947], [21, [4, [1...   \n",
       "2  [[26, [17, [60], [23]], [857], [21, [4, [731]]...   \n",
       "3  [[26, [17, [60], [23]], [857], [21, [4, [731]]...   \n",
       "4  [[26, [17, [53]], [4, [22]], [2947], [21, [4, ...   \n",
       "\n",
       "                                              code_y  \n",
       "0  [[26, [17, [199]], [4, [22]], [2947], [21, [4,...  \n",
       "1  [[26, [17, [199]], [4, [22]], [2947], [21, [4,...  \n",
       "2  [[26, [17, [199]], [4, [22]], [2947], [21, [4,...  \n",
       "3  [[26, [17, [199]], [4, [22]], [2947], [21, [4,...  \n",
       "4  [[26, [17, [199]], [4, [22]], [2947], [21, [4,...  "
      ]
     },
     "execution_count": 35,
     "metadata": {},
     "output_type": "execute_result"
    }
   ],
   "source": [
    "# gcj\n",
    "root = './data/train_data/cbcb/'\n",
    "for i in ['0','1']:\n",
    "    for label in ['fun']:\n",
    "        for l in ['test']:\n",
    "            f = l+'_'+label + i\n",
    "            merge(root+f, trees)\n"
   ]
  },
  {
   "cell_type": "code",
   "execution_count": null,
   "metadata": {},
   "outputs": [],
   "source": []
  }
 ],
 "metadata": {
  "kernelspec": {
   "display_name": "Python 3.7.11 ('network')",
   "language": "python",
   "name": "python3"
  },
  "language_info": {
   "codemirror_mode": {
    "name": "ipython",
    "version": 3
   },
   "file_extension": ".py",
   "mimetype": "text/x-python",
   "name": "python",
   "nbconvert_exporter": "python",
   "pygments_lexer": "ipython3",
   "version": "3.7.11"
  },
  "orig_nbformat": 4,
  "vscode": {
   "interpreter": {
    "hash": "92e580cb3a4af048fc0bc8e4f87f44c68a85c7d18ab7036def07bcb6c2609eef"
   }
  }
 },
 "nbformat": 4,
 "nbformat_minor": 2
}
