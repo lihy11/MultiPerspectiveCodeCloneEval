{
 "cells": [
  {
   "cell_type": "code",
   "execution_count": 1,
   "metadata": {
    "collapsed": true
   },
   "outputs": [],
   "source": [
    "import os\n",
    "import numpy as np"
   ]
  },
  {
   "cell_type": "code",
   "execution_count": 3,
   "metadata": {
    "collapsed": false,
    "pycharm": {
     "name": "#%%\n"
    }
   },
   "outputs": [
    {
     "name": "stdout",
     "output_type": "stream",
     "text": [
      "(500000, 3) (250000, 3) (250000, 3)\n",
      "(500000, 3) (250000, 3) (250000, 3)\n",
      "(500000, 3) (250000, 3) (250000, 3)\n"
     ]
    }
   ],
   "source": [
    "dataset = 'gcj'\n",
    "for label in ['pro']: #['random', 'fun', 'pro']:\n",
    "    for i in ['0', '1', '2']:\n",
    "        train_data = np.load(f'../dataset/train_split/{dataset}/train_{label}{i}.npy')\n",
    "        val_data = np.load(f'../dataset/train_split/{dataset}/val_{label}{i}.npy')\n",
    "        test_data = np.load(f'../dataset/train_split/{dataset}/test_{label}{i}.npy')\n",
    "        print(train_data.shape, val_data.shape, test_data.shape)\n",
    "        data_base_path = '../dataset/'+dataset+'/code'\n",
    "        with open(f'./data/{dataset}/train_{label}{i}.txt', 'w') as f:\n",
    "            for d in train_data:\n",
    "                f.write(f'../dataset/{dataset}/code/{d[0]}\\t../dataset/{dataset}/code/{d[1]}\\t{d[2]}\\n')\n",
    "        with open(f'./data/{dataset}/val_{label}{i}.txt', 'w') as f:\n",
    "            for d in val_data:\n",
    "                f.write(f'../dataset/{dataset}/code/{d[0]}\\t../dataset/{dataset}/code/{d[1]}\\t{d[2]}\\n')\n",
    "        with open(f'./data/{dataset}/test_{label}{i}.txt', 'w') as f:\n",
    "            for d in test_data:\n",
    "                f.write(f'../dataset/{dataset}/code/{d[0]}\\t../dataset/{dataset}/code/{d[1]}\\t{d[2]}\\n')"
   ]
  },
  {
   "cell_type": "code",
   "execution_count": null,
   "metadata": {
    "collapsed": false,
    "pycharm": {
     "name": "#%%\n"
    }
   },
   "outputs": [],
   "source": []
  }
 ],
 "metadata": {
  "kernelspec": {
   "display_name": "Python 3.7.11 ('network')",
   "language": "python",
   "name": "python3"
  },
  "language_info": {
   "codemirror_mode": {
    "name": "ipython",
    "version": 3
   },
   "file_extension": ".py",
   "mimetype": "text/x-python",
   "name": "python",
   "nbconvert_exporter": "python",
   "pygments_lexer": "ipython3",
   "version": "3.7.11"
  },
  "vscode": {
   "interpreter": {
    "hash": "92e580cb3a4af048fc0bc8e4f87f44c68a85c7d18ab7036def07bcb6c2609eef"
   }
  }
 },
 "nbformat": 4,
 "nbformat_minor": 0
}
